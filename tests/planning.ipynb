{
 "cells": [
  {
   "cell_type": "code",
   "execution_count": 1,
   "id": "520b9aff",
   "metadata": {},
   "outputs": [],
   "source": [
    "from h2_gym.envs import Planning"
   ]
  },
  {
   "cell_type": "code",
   "execution_count": 2,
   "id": "d4e79dcc",
   "metadata": {},
   "outputs": [
    {
     "name": "stdout",
     "output_type": "stream",
     "text": [
      "[INFO] Reading CSV file: /Users/cameronaldren/miniconda3/envs/h2gym/lib/python3.10/site-packages/meteor_py/data/CoastalChile_15-20_Wind.csv\n",
      "[INFO] Setup Model completed in 0.91 seconds\n",
      "[INFO] Model Built in 8.38 seconds\n",
      "[INFO] Loaded recognised as instance\n",
      "[INFO] Solved in 3.87 seconds. Status = optimal\n"
     ]
    }
   ],
   "source": [
    "environment = Planning('NH3-Chile', weather_file ='CoastalChile_15-20_Wind.csv')\n",
    "\n",
    "with environment as env:\n",
    "    env['booleans']['vector_choice']['NH3'] = True\n",
    "    env['booleans']['electrolysers']['SOFC'] = True\n",
    "    env['booleans']['wind'] = True\n",
    "    env['equipment']['vector_production']['NH3'] = 5\n",
    "    env['miscillaneous']['discount_factor'] = 0.06\n",
    "\n",
    "environment.solve()"
   ]
  },
  {
   "cell_type": "code",
   "execution_count": 3,
   "id": "f9e3d64d",
   "metadata": {},
   "outputs": [],
   "source": [
    "res = environment.get_results()"
   ]
  }
 ],
 "metadata": {
  "kernelspec": {
   "display_name": "h2gym",
   "language": "python",
   "name": "python3"
  },
  "language_info": {
   "codemirror_mode": {
    "name": "ipython",
    "version": 3
   },
   "file_extension": ".py",
   "mimetype": "text/x-python",
   "name": "python",
   "nbconvert_exporter": "python",
   "pygments_lexer": "ipython3",
   "version": "3.10.16"
  }
 },
 "nbformat": 4,
 "nbformat_minor": 5
}
