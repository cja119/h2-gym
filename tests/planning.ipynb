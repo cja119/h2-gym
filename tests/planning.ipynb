{
 "cells": [
  {
   "cell_type": "code",
   "execution_count": 1,
   "id": "520b9aff",
   "metadata": {},
   "outputs": [],
   "source": [
    "from h2_gym.envs import Planning\n",
    "from h2_plan.data import DefaultParams"
   ]
  },
  {
   "cell_type": "code",
   "execution_count": null,
   "id": "d4e79dcc",
   "metadata": {},
   "outputs": [
    {
     "name": "stdout",
     "output_type": "stream",
     "text": [
      "[INFO] Reading CSV file: /Users/cameronaldren/miniconda3/envs/h2gym/lib/python3.10/site-packages/meteor_py/data/CoastalChile_15-20_Wind.csv\n",
      "[INFO] Setup Model completed in 0.07 seconds\n"
     ]
    }
   ],
   "source": [
    "environment = Planning('NH3-Chile', weather_file ='CoastalChile_15-20_Wind.csv')\n",
    "\n",
    "with environment as env:\n",
    "    env['booleans']['vector_choice']['NH3'] = True\n",
    "    env['booleans']['electrolysers']['SOFC'] = True\n",
    "    env['booleans']['wind'] = True\n",
    "    env['equipment']['vector_production']['NH3'] = 5\n",
    "\n",
    "environment.solve()"
   ]
  },
  {
   "cell_type": "code",
   "execution_count": null,
   "id": "58b786c8",
   "metadata": {},
   "outputs": [],
   "source": [
    "res = environment.get_results()\n"
   ]
  },
  {
   "cell_type": "code",
   "execution_count": 4,
   "id": "8060d2c8",
   "metadata": {},
   "outputs": [
    {
     "name": "stderr",
     "output_type": "stream",
     "text": [
      "2025-05-23 13:45:28.556 python[28239:886780] +[IMKClient subclass]: chose IMKClient_Legacy\n",
      "2025-05-23 13:45:28.556 python[28239:886780] +[IMKInputSession subclass]: chose IMKInputSession_Legacy\n"
     ]
    },
    {
     "ename": "",
     "evalue": "",
     "output_type": "error",
     "traceback": [
      "\u001b[1;31mThe Kernel crashed while executing code in the current cell or a previous cell. \n",
      "\u001b[1;31mPlease review the code in the cell(s) to identify a possible cause of the failure. \n",
      "\u001b[1;31mClick <a href='https://aka.ms/vscodeJupyterKernelCrash'>here</a> for more info. \n",
      "\u001b[1;31mView Jupyter <a href='command:jupyter.viewOutput'>log</a> for further details."
     ]
    }
   ],
   "source": [
    "environment.visualise()"
   ]
  },
  {
   "cell_type": "code",
   "execution_count": null,
   "id": "ffffcbc4",
   "metadata": {},
   "outputs": [
    {
     "name": "stdout",
     "output_type": "stream",
     "text": [
      "Parameters saved to /Users/cameronaldren/miniconda3/envs/h2gym/lib/python3.10/site-packages/h2_plan/opt/src/h2-gym/tmp/params.yaml\n"
     ]
    }
   ],
   "source": [
    "import yaml\n",
    "import os\n",
    "from pathlib import Path\n",
    "\n",
    "params = DefaultParams()\n",
    "param_drops = [\n",
    "    ['efficiencies','reconversion'],\n",
    "    ['efficiencies','battery_storage'],\n",
    "    ['capital_costs','battery_storage'],\n",
    "    ['capital_costs','geographical_storage'],\n",
    "    ['capital_costs','shipping'],\n",
    "    ['capital_costs','reconversion'],\n",
    "    ['capital_costs','port'],\n",
    "    ['operating_costs','battery_storage'],\n",
    "    ['operating_costs','geographical_storage'],\n",
    "    ['operating_costs','shipping'],\n",
    "    ['operating_costs','reconversion'],\n",
    "    ['operating_costs','port'],\n",
    "    ['replacement_frequencies','battery_storage'],\n",
    "    ['replacement_frequencies','reconversion'],\n",
    "    ['shipping','fuel_consumption'],\n",
    "    ['shipping','journey_time'],\n",
    "    ['shippping','charter_rate'],\n",
    "    ['shipping','berthing_rate'],\n",
    "    ['miscillaneous','reconversion_electrical_demand'],\n",
    "    ['miscillaneous','battery_charge_time'],\n",
    "    ['equipment','gh2_storage'],\n",
    "    ['equipment','origin_storage'],\n",
    "    ['equipment','capacity_electrolysers'],\n",
    "    ['equipment','number_turbines'],\n",
    "    ['equipment','compression_capacity'],\n",
    "    ['equipment','hfc_capacity'],\n",
    "]\n",
    "\n",
    "bool_drops = [\n",
    "    'net_present_value',\n",
    "    'geographical_storage',\n",
    "    'grid_wheel'\n",
    "]\n",
    "\n",
    "def recursive_drop(d, keys):\n",
    "    \"\"\"Recursively delete the value associated with a list of nested keys in dict d.\"\"\"\n",
    "    if len(keys) == 1:\n",
    "        d.pop(keys[0], None)\n",
    "    else:\n",
    "        if keys[0] in d and isinstance(d[keys[0]], dict):\n",
    "            recursive_drop(d[keys[0]], keys[1:])\n",
    "\n",
    "for i in params.formulation_parameters:\n",
    "    for rec_key in param_drops:\n",
    "        recursive_drop(params.formulation_parameters, rec_key)\n",
    "    \n",
    "\n",
    "for j in environment._booleans:\n",
    "    for rec_key in bool_drops:\n",
    "        recursive_drop(environment._booleans, rec_key)\n",
    "   \n",
    "params.formulation_parameters['booleans'] = environment._booleans\n",
    "\n",
    "# Ensure the directory exists\n",
    "# In Jupyter notebooks, __file__ is not defined. Use the current working directory instead.\n",
    "output_path = Path.cwd() / 'src' / 'h2-gym' / 'tmp' / 'params.yaml'\n",
    "os.makedirs(os.path.dirname(output_path), exist_ok=True)\n",
    "\n",
    "with open(output_path, 'w') as file:\n",
    "    yaml.dump(params.formulation_parameters, file)\n",
    "\n",
    "print(f\"Parameters saved to {output_path}\")"
   ]
  }
 ],
 "metadata": {
  "kernelspec": {
   "display_name": "h2gym",
   "language": "python",
   "name": "python3"
  },
  "language_info": {
   "codemirror_mode": {
    "name": "ipython",
    "version": 3
   },
   "file_extension": ".py",
   "mimetype": "text/x-python",
   "name": "python",
   "nbconvert_exporter": "python",
   "pygments_lexer": "ipython3",
   "version": "3.10.16"
  }
 },
 "nbformat": 4,
 "nbformat_minor": 5
}
