{
 "cells": [
  {
   "cell_type": "code",
   "execution_count": 1,
   "id": "f4147c97",
   "metadata": {},
   "outputs": [],
   "source": [
    "from h2_gym.envs import HydrogenSupply"
   ]
  },
  {
   "cell_type": "code",
   "execution_count": 2,
   "id": "5558b016",
   "metadata": {},
   "outputs": [
    {
     "ename": "FileNotFoundError",
     "evalue": "[Errno 2] No such file or directory: '/Users/cameronaldren/Documents/h2-gym/src/data/supply/supply_1.json'",
     "output_type": "error",
     "traceback": [
      "\u001b[0;31m---------------------------------------------------------------------------\u001b[0m",
      "\u001b[0;31mFileNotFoundError\u001b[0m                         Traceback (most recent call last)",
      "Cell \u001b[0;32mIn[2], line 1\u001b[0m\n\u001b[0;32m----> 1\u001b[0m env \u001b[38;5;241m=\u001b[39m \u001b[43mHydrogenSupply\u001b[49m\u001b[43m(\u001b[49m\u001b[38;5;124;43m\"\u001b[39;49m\u001b[38;5;124;43msupply_1\u001b[39;49m\u001b[38;5;124;43m\"\u001b[39;49m\u001b[43m)\u001b[49m\n\u001b[1;32m      2\u001b[0m env\u001b[38;5;241m.\u001b[39mgraph\u001b[38;5;241m.\u001b[39mlinearise()\n\u001b[1;32m      3\u001b[0m out \u001b[38;5;241m=\u001b[39m \u001b[38;5;28;01mNone\u001b[39;00m\n",
      "File \u001b[0;32m~/Documents/h2-gym/src/h2_gym/envs/supply/core.py:32\u001b[0m, in \u001b[0;36mHydrogenSupply.__init__\u001b[0;34m(self, json_file)\u001b[0m\n\u001b[1;32m     29\u001b[0m \u001b[38;5;28mself\u001b[39m\u001b[38;5;241m.\u001b[39mgenerator \u001b[38;5;241m=\u001b[39m StochasticGenerator()\n\u001b[1;32m     30\u001b[0m \u001b[38;5;28mself\u001b[39m\u001b[38;5;241m.\u001b[39mgraph \u001b[38;5;241m=\u001b[39m Isochronous(\u001b[38;5;28mself\u001b[39m\u001b[38;5;241m.\u001b[39mspace_graph,\u001b[38;5;28mself\u001b[39m\u001b[38;5;241m.\u001b[39mgenerator)\n\u001b[0;32m---> 32\u001b[0m \u001b[38;5;28;43mself\u001b[39;49m\u001b[38;5;241;43m.\u001b[39;49m\u001b[43mget_data\u001b[49m\u001b[43m(\u001b[49m\u001b[43m)\u001b[49m\n\u001b[1;32m     34\u001b[0m \u001b[38;5;28;01mreturn\u001b[39;00m \u001b[38;5;28;01mNone\u001b[39;00m\n",
      "File \u001b[0;32m~/Documents/h2-gym/src/h2_gym/envs/supply/core.py:42\u001b[0m, in \u001b[0;36mHydrogenSupply.get_data\u001b[0;34m(self)\u001b[0m\n\u001b[1;32m     37\u001b[0m \u001b[38;5;250m\u001b[39m\u001b[38;5;124;03m\"\"\"\u001b[39;00m\n\u001b[1;32m     38\u001b[0m \u001b[38;5;124;03mGets the data from the json file\u001b[39;00m\n\u001b[1;32m     39\u001b[0m \u001b[38;5;124;03m\"\"\"\u001b[39;00m\n\u001b[1;32m     40\u001b[0m current_path \u001b[38;5;241m=\u001b[39m Path(\u001b[38;5;18m__file__\u001b[39m)\u001b[38;5;241m.\u001b[39mparent\u001b[38;5;241m.\u001b[39mparent\u001b[38;5;241m.\u001b[39mparent\u001b[38;5;241m.\u001b[39mparent\u001b[38;5;241m/\u001b[39m\u001b[38;5;124m\"\u001b[39m\u001b[38;5;124mdata/supply\u001b[39m\u001b[38;5;124m\"\u001b[39m\n\u001b[0;32m---> 42\u001b[0m data, module \u001b[38;5;241m=\u001b[39m \u001b[43mmodule_loader\u001b[49m\u001b[43m(\u001b[49m\u001b[43mcurrent_path\u001b[49m\u001b[43m,\u001b[49m\u001b[43m \u001b[49m\u001b[38;5;28;43mself\u001b[39;49m\u001b[38;5;241;43m.\u001b[39;49m\u001b[43mfile\u001b[49m\u001b[43m)\u001b[49m\n\u001b[1;32m     44\u001b[0m \u001b[38;5;66;03m# The constraints map to themselves\u001b[39;00m\n\u001b[1;32m     45\u001b[0m self_edges \u001b[38;5;241m=\u001b[39m \u001b[38;5;28mlist\u001b[39m(\u001b[38;5;28mzip\u001b[39m(data[\u001b[38;5;124m'\u001b[39m\u001b[38;5;124mpartial_order\u001b[39m\u001b[38;5;124m'\u001b[39m],data[\u001b[38;5;124m'\u001b[39m\u001b[38;5;124mpartial_order\u001b[39m\u001b[38;5;124m'\u001b[39m]))\n",
      "File \u001b[0;32m~/Documents/h2-gym/src/h2_gym/envs/supply/utils.py:83\u001b[0m, in \u001b[0;36mmodule_loader\u001b[0;34m(current_path, file_name)\u001b[0m\n\u001b[1;32m     80\u001b[0m \u001b[38;5;28;01mif\u001b[39;00m file_name[:\u001b[38;5;241m-\u001b[39m\u001b[38;5;241m5\u001b[39m] \u001b[38;5;241m!=\u001b[39m \u001b[38;5;124m\"\u001b[39m\u001b[38;5;124m.json\u001b[39m\u001b[38;5;124m\"\u001b[39m:\n\u001b[1;32m     81\u001b[0m     file_name \u001b[38;5;241m+\u001b[39m\u001b[38;5;241m=\u001b[39m \u001b[38;5;124m\"\u001b[39m\u001b[38;5;124m.json\u001b[39m\u001b[38;5;124m\"\u001b[39m\n\u001b[0;32m---> 83\u001b[0m \u001b[38;5;28;01mwith\u001b[39;00m \u001b[38;5;28;43mopen\u001b[39;49m\u001b[43m(\u001b[49m\u001b[43mcurrent_path\u001b[49m\u001b[43m \u001b[49m\u001b[38;5;241;43m/\u001b[39;49m\u001b[43m \u001b[49m\u001b[43mfile_name\u001b[49m\u001b[43m,\u001b[49m\u001b[43m \u001b[49m\u001b[38;5;124;43m'\u001b[39;49m\u001b[38;5;124;43mr\u001b[39;49m\u001b[38;5;124;43m'\u001b[39;49m\u001b[43m)\u001b[49m \u001b[38;5;28;01mas\u001b[39;00m f:\n\u001b[1;32m     84\u001b[0m     data \u001b[38;5;241m=\u001b[39m json\u001b[38;5;241m.\u001b[39mload(f)\n\u001b[1;32m     86\u001b[0m \u001b[38;5;66;03m# Load the module from file\u001b[39;00m\n",
      "\u001b[0;31mFileNotFoundError\u001b[0m: [Errno 2] No such file or directory: '/Users/cameronaldren/Documents/h2-gym/src/data/supply/supply_1.json'"
     ]
    }
   ],
   "source": [
    "env = HydrogenSupply(\"supply_1\")\n",
    "env.graph.linearise()\n",
    "out = None\n",
    "\n",
    "for _ in range(100):\n",
    "    out = env.graph.step(out)\n",
    "    print(env.space_graph['energy_production']['variables'].get_collection('inlets'))\n",
    "    print(out)\n"
   ]
  },
  {
   "cell_type": "code",
   "execution_count": null,
   "id": "a9ff44f3",
   "metadata": {},
   "outputs": [],
   "source": [
    "\n",
    "\n",
    "    #for node in env.space_graph:\n",
    "    #    print(node['variables'].get_collection('constraints'))\n",
    "\n",
    "## Issue - when linearsing the graph the nodes think the passthrough variables are destined for them!!!"
   ]
  },
  {
   "cell_type": "code",
   "execution_count": null,
   "id": "58c20cf5",
   "metadata": {},
   "outputs": [
    {
     "data": {
      "text/plain": [
       "{'E_M_U': 1020000,\n",
       " 'P_M_U': 127500,\n",
       " 'eta_C_H2': 42500000,\n",
       " 'eta_C_M': 3733500,\n",
       " 'eta_C_M_W': 7800,\n",
       " 'ship_disc_lim_feas': -510000.0,\n",
       " 'total_disc_lim_feas': -4526250.0,\n",
       " 'vector_production': 63750.0,\n",
       " 'old_ships': 5.0,\n",
       " 'old_shipping_energy': 1020000.0,\n",
       " 'ship_order': 0.5,\n",
       " 'old_hydrogen_storage_pt': 32312.909411764707,\n",
       " 'old_vector_storage_pt': 1738960.62}"
      ]
     },
     "execution_count": 4,
     "metadata": {},
     "output_type": "execute_result"
    }
   ],
   "source": [
    "env.space_graph['shipping']['variables']._vars"
   ]
  },
  {
   "cell_type": "code",
   "execution_count": null,
   "id": "6604ea0d",
   "metadata": {},
   "outputs": [
    {
     "data": {
      "text/plain": [
       "{'N_C_U': 12,\n",
       " 'eta_C_U': 0.05,\n",
       " 'eta_C_L': 0.1,\n",
       " 'P_C_U': 135,\n",
       " 'eta_C_S': 8.124,\n",
       " 'eta_C_P': 159000,\n",
       " 'eta_N_T': 1087,\n",
       " 'power_lim_feas': -7020.617838897704,\n",
       " 'sup_lim_feas': 0.0,\n",
       " 'ramp_up_feas': -0.30000000000000004,\n",
       " 'ramp_lo_feas': 0.6000000000000001,\n",
       " 'renewable_power': 11.325315399169922,\n",
       " 'old_conversion_power': 810.0,\n",
       " 'hydrogen_power': 5290.0,\n",
       " 'conversion_power': 810.0,\n",
       " 'supplemental_power': 810.0}"
      ]
     },
     "execution_count": 5,
     "metadata": {},
     "output_type": "execute_result"
    }
   ],
   "source": [
    "env.space_graph['energy_production']['variables']._vars"
   ]
  }
 ],
 "metadata": {
  "kernelspec": {
   "display_name": "RL",
   "language": "python",
   "name": "python3"
  },
  "language_info": {
   "codemirror_mode": {
    "name": "ipython",
    "version": 3
   },
   "file_extension": ".py",
   "mimetype": "text/x-python",
   "name": "python",
   "nbconvert_exporter": "python",
   "pygments_lexer": "ipython3",
   "version": "3.10.16"
  }
 },
 "nbformat": 4,
 "nbformat_minor": 5
}
