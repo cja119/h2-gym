{
 "cells": [
  {
   "cell_type": "code",
   "execution_count": 1,
   "id": "f4147c97",
   "metadata": {},
   "outputs": [],
   "source": [
    "from vcgym.envs.hydrogen import HydrogenSupply"
   ]
  },
  {
   "cell_type": "code",
   "execution_count": null,
   "id": "5558b016",
   "metadata": {},
   "outputs": [],
   "source": [
    "env = HydrogenSupply(\"supply_1\")\n",
    "env.graph.linearise()\n",
    "\n",
    "\n"
   ]
  },
  {
   "cell_type": "code",
   "execution_count": 9,
   "id": "0335adde",
   "metadata": {},
   "outputs": [
    {
     "data": {
      "text/plain": [
       "{'N_C_U': None,\n",
       " 'eta_C_U': None,\n",
       " 'eta_C_L': None,\n",
       " 'P_C_U': None,\n",
       " 'eta_C_S': None,\n",
       " 'eta_C_P': None,\n",
       " 'eta_N_T': None,\n",
       " 'power_lim_feas': None,\n",
       " 'sup_lim_feas': None,\n",
       " 'ramp_up_feas': None,\n",
       " 'ramp_lo_feas': None,\n",
       " 'renewable_power': [0, 13000],\n",
       " 'old_conversion_power': [0, 1620],\n",
       " 'hydrogen_power': [0, 10580],\n",
       " 'conversion_power': [0, 1620],\n",
       " 'supplemental_power': [0, 1620]}"
      ]
     },
     "execution_count": 9,
     "metadata": {},
     "output_type": "execute_result"
    }
   ],
   "source": [
    "env.space_graph['energy_production']._vars._rngs"
   ]
  },
  {
   "cell_type": "code",
   "execution_count": null,
   "id": "a9ff44f3",
   "metadata": {},
   "outputs": [
    {
     "ename": "AttributeError",
     "evalue": "'HydrogenSupply' object has no attribute 'stochatic_generator'",
     "output_type": "error",
     "traceback": [
      "\u001b[0;31m---------------------------------------------------------------------------\u001b[0m",
      "\u001b[0;31mAttributeError\u001b[0m                            Traceback (most recent call last)",
      "Cell \u001b[0;32mIn[3], line 2\u001b[0m\n\u001b[1;32m      1\u001b[0m out \u001b[38;5;241m=\u001b[39m \u001b[38;5;28;01mNone\u001b[39;00m\n\u001b[0;32m----> 2\u001b[0m \u001b[43menv\u001b[49m\u001b[38;5;241;43m.\u001b[39;49m\u001b[43mstochatic_generator\u001b[49m\u001b[38;5;241m.\u001b[39mupdate()\n\u001b[1;32m      3\u001b[0m out \u001b[38;5;241m=\u001b[39m env\u001b[38;5;241m.\u001b[39mspace_graph\u001b[38;5;241m.\u001b[39mevaluate(out)\n",
      "\u001b[0;31mAttributeError\u001b[0m: 'HydrogenSupply' object has no attribute 'stochatic_generator'"
     ]
    }
   ],
   "source": [
    "out = None\n",
    "env.stochaxtic_generator.update()\n",
    "out = env.space_graph.evaluate(out)\n",
    "\n",
    "    #for node in env.space_graph:\n",
    "    #    print(node['variables'].get_collection('constraints'))\n",
    "\n",
    "## Issue - when linearsing the graph the nodes think the passthrough variables are destined for them!!!"
   ]
  },
  {
   "cell_type": "code",
   "execution_count": null,
   "id": "58c20cf5",
   "metadata": {},
   "outputs": [
    {
     "data": {
      "text/plain": [
       "{'E_M_U': 1020000,\n",
       " 'P_M_U': 127500,\n",
       " 'eta_C_H2': 42500000,\n",
       " 'eta_C_M': 3733500,\n",
       " 'eta_C_M_W': 7800,\n",
       " 'ship_disc_lim_feas': -510000.0,\n",
       " 'total_disc_lim_feas': -4526250.0,\n",
       " 'vector_production': 63750.0,\n",
       " 'old_ships': 5.0,\n",
       " 'old_shipping_energy': 1020000.0,\n",
       " 'ship_order': 0.5,\n",
       " 'old_conversion_power_pt': 810.0,\n",
       " 'old_hydrogen_storage_pt': 32312.909411764707,\n",
       " 'old_vector_storage_pt': 1738960.62}"
      ]
     },
     "execution_count": 4,
     "metadata": {},
     "output_type": "execute_result"
    }
   ],
   "source": [
    "env.space_graph['shipping']['variables']._vars"
   ]
  },
  {
   "cell_type": "code",
   "execution_count": null,
   "id": "6604ea0d",
   "metadata": {},
   "outputs": [
    {
     "data": {
      "text/plain": [
       "{'N_C_U': 12,\n",
       " 'eta_C_U': 0.05,\n",
       " 'eta_C_L': 0.1,\n",
       " 'P_C_U': 135,\n",
       " 'eta_C_S': 8.124,\n",
       " 'eta_C_P': 159000,\n",
       " 'eta_N_T': 1087,\n",
       " 'power_lim_feas': -7623.560000000001,\n",
       " 'sup_lim_feas': 0.0,\n",
       " 'ramp_up_feas': -0.30000000000000004,\n",
       " 'ramp_lo_feas': 0.6000000000000001,\n",
       " 'renewable_power': 11.88,\n",
       " 'old_conversion_power': 810.0,\n",
       " 'hydrogen_power': 5290.0,\n",
       " 'conversion_power': 810.0,\n",
       " 'supplemental_power': 810.0}"
      ]
     },
     "execution_count": 5,
     "metadata": {},
     "output_type": "execute_result"
    }
   ],
   "source": [
    "env.space_graph['energy_production']['variables']._vars"
   ]
  }
 ],
 "metadata": {
  "kernelspec": {
   "display_name": "RL",
   "language": "python",
   "name": "python3"
  },
  "language_info": {
   "codemirror_mode": {
    "name": "ipython",
    "version": 3
   },
   "file_extension": ".py",
   "mimetype": "text/x-python",
   "name": "python",
   "nbconvert_exporter": "python",
   "pygments_lexer": "ipython3",
   "version": "3.10.16"
  }
 },
 "nbformat": 4,
 "nbformat_minor": 5
}
