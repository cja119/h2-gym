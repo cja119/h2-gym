{
 "cells": [
  {
   "cell_type": "code",
   "execution_count": 1,
   "id": "f4147c97",
   "metadata": {},
   "outputs": [],
   "source": [
    "from vcgym.graph.spatial import SpaceGraph\n",
    "from vcgym.graph.temporal import Isochronous\n",
    "from vcgym.graph.node import Node\n",
    "from importlib.resources import open_text\n",
    "import csv"
   ]
  },
  {
   "cell_type": "code",
   "execution_count": 2,
   "id": "5558b016",
   "metadata": {},
   "outputs": [],
   "source": [
    "def func(v):\n",
    "    return 1"
   ]
  },
  {
   "cell_type": "code",
   "execution_count": 3,
   "id": "dbee07dd",
   "metadata": {},
   "outputs": [
    {
     "name": "stdout",
     "output_type": "stream",
     "text": [
      "{'a': {'storage_pt': None, 'test_pt': None}}\n"
     ]
    }
   ],
   "source": [
    "graph = SpaceGraph()\n",
    "node_ids = ['a', 'b', 'c', 'd'] # <- order matters\n",
    "edges = [('b','a+'),('b','b+'),('a', 'b'), ('b', 'c'), ('c', 'd'), ('a', 'c')]\n",
    "\n",
    "with graph.builder() as gb:\n",
    "    gb['nodes'] = node_ids\n",
    "    gb['edges'] = edges\n",
    "    gb['directed'] = True\n",
    "\n",
    "\n",
    "with graph['b'] as node:\n",
    "    node['name'] = \"energy_gen\"  \n",
    "    node['variables'].add('storage_cost',0)\n",
    "    node['variables'].add('storage',0)\n",
    "    node['functions'].add(func,'storage', 'a+') # + denotes itself at the next time step. \n",
    "    node['functions'].add(func,'test', 'b+') \n",
    "    node['variables'].collection('controls',['storage_cost'])\n",
    "\n",
    "outs = graph.evaluate()\n",
    "graph.linearise()"
   ]
  },
  {
   "cell_type": "code",
   "execution_count": 4,
   "id": "ecf8dc39",
   "metadata": {},
   "outputs": [
    {
     "name": "stdout",
     "output_type": "stream",
     "text": [
      "None\n",
      "<vcgym.graph.node.props.functions.Functions object at 0x11f052290>\n",
      "<vcgym.graph.node.props.functions.Functions object at 0x11f053b20>\n",
      "<vcgym.graph.node.props.functions.Functions object at 0x11f053c10>\n"
     ]
    }
   ],
   "source": [
    "for node in graph:\n",
    "    print(node._funcs)"
   ]
  }
 ],
 "metadata": {
  "kernelspec": {
   "display_name": "RL",
   "language": "python",
   "name": "python3"
  },
  "language_info": {
   "codemirror_mode": {
    "name": "ipython",
    "version": 3
   },
   "file_extension": ".py",
   "mimetype": "text/x-python",
   "name": "python",
   "nbconvert_exporter": "python",
   "pygments_lexer": "ipython3",
   "version": "3.10.16"
  }
 },
 "nbformat": 4,
 "nbformat_minor": 5
}
