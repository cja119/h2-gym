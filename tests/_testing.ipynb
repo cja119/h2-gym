{
 "cells": [
  {
   "cell_type": "code",
   "execution_count": null,
   "id": "40fa0bdc",
   "metadata": {},
   "outputs": [
    {
     "ename": "SyntaxError",
     "evalue": "invalid syntax. Perhaps you forgot a comma? (3427083353.py, line 31)",
     "output_type": "error",
     "traceback": [
      "\u001b[0;36m  Cell \u001b[0;32mIn[1], line 31\u001b[0;36m\u001b[0m\n\u001b[0;31m    transition_covariance=np.eye(2) * 0.1\u001b[0m\n\u001b[0m                          ^\u001b[0m\n\u001b[0;31mSyntaxError\u001b[0m\u001b[0;31m:\u001b[0m invalid syntax. Perhaps you forgot a comma?\n"
     ]
    }
   ],
   "source": [
    "import numpy as np\n",
    "import matplotlib.pyplot as plt\n",
    "from pykalman import KalmanFilter\n",
    "\n",
    "# --- Step 1: Generate synthetic data ---\n",
    "np.random.seed(42)\n",
    "\n",
    "n_timesteps = 100\n",
    "true_trend_start = 50\n",
    "true_trend_rate = 0.3\n",
    "seasonal_amplitude = 10\n",
    "seasonal_period = 20\n",
    "noise_std = 1.5\n",
    "\n",
    "# Generate trend\n",
    "trend = true_trend_start + true_trend_rate * np.arange(n_timesteps)\n",
    "\n",
    "# Generate seasonal component (sine wave)\n",
    "seasonality = seasonal_amplitude * np.sin(2 * np.pi * np.arange(n_timesteps) / seasonal_period)\n",
    "\n",
    "# Add noise\n",
    "noise = np.random.normal(0, noise_std, size=n_timesteps)\n",
    "\n",
    "# Final observed demand\n",
    "observed_demand = trend + seasonality + noise\n",
    "\n",
    "# --- Step 2: Kalman filter to estimate linear trend ---\n",
    "kf = KalmanFilter(\n",
    "    transition_matrices=[[1, 1], [0, 1]],\n",
    "    observation_matrices=[[1, 0]],\n",
    "    transition_covariance=np.eye(2) * 0.1  ,\n",
    "    observation_covariance=noise_std**2,\n",
    "    initial_state_mean=[observed_demand[0], 0]\n",
    ")\n",
    "\n",
    "state_means, _ = kf.smooth(observed_demand)\n",
    "estimated_trend = state_means[:, 0]\n",
    "\n",
    "# --- Step 3: Calculate residuals (historical seasonal signal) ---\n",
    "seasonal_residuals = observed_demand - estimated_trend\n",
    "\n",
    "# --- Step 4: Reconstruct using trend + raw residuals (data-driven) ---\n",
    "reconstructed_demand = estimated_trend + seasonal_residuals\n",
    "\n",
    "# --- Step 5: Plot ---\n",
    "plt.figure(figsize=(12, 7))\n",
    "\n",
    "plt.plot(observed_demand, 'k.', label='Observed Demand (Noisy)', alpha=0.5)\n",
    "plt.plot(trend, 'g--', label='True Trend')\n",
    "plt.plot(estimated_trend, 'b-', label='Estimated Trend (Kalman)')\n",
    "plt.plot(reconstructed_demand, 'r--', label='Reconstructed Demand (Trend + Residuals)')\n",
    "\n",
    "plt.title('Data-Driven Trend + Seasonality Reconstruction via Kalman Filter')\n",
    "plt.xlabel('Time')\n",
    "plt.ylabel('Demand')\n",
    "plt.legend()\n",
    "plt.grid(True)\n",
    "plt.tight_layout()\n",
    "plt.show()"
   ]
  }
 ],
 "metadata": {
  "kernelspec": {
   "display_name": "RL",
   "language": "python",
   "name": "python3"
  },
  "language_info": {
   "codemirror_mode": {
    "name": "ipython",
    "version": 3
   },
   "file_extension": ".py",
   "mimetype": "text/x-python",
   "name": "python",
   "nbconvert_exporter": "python",
   "pygments_lexer": "ipython3",
   "version": "3.10.16"
  }
 },
 "nbformat": 4,
 "nbformat_minor": 5
}
