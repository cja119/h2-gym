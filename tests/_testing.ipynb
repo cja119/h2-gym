{
 "cells": [
  {
   "cell_type": "code",
   "execution_count": 1,
   "id": "f4147c97",
   "metadata": {},
   "outputs": [],
   "source": [
    "from vcgym.graph.spatial import SpaceGraph\n",
    "from vcgym.graph.temporal import Isochronous\n",
    "from vcgym.graph.node import Node\n",
    "from importlib.resources import open_text\n",
    "import csv"
   ]
  },
  {
   "cell_type": "code",
   "execution_count": 2,
   "id": "5558b016",
   "metadata": {},
   "outputs": [],
   "source": [
    "def func(v):\n",
    "    return 1"
   ]
  },
  {
   "cell_type": "code",
   "execution_count": null,
   "id": "dbee07dd",
   "metadata": {},
   "outputs": [
    {
     "name": "stdout",
     "output_type": "stream",
     "text": [
      "{'b': {}, 'c': {}}\n"
     ]
    }
   ],
   "source": [
    "graph = SpaceGraph()\n",
    "node_ids = ['a', 'b', 'c', 'd'] # <- order matters\n",
    "edges = [('a', 'b'), ('b', 'c'), ('c', 'd'), ('a', 'c')]\n",
    "\n",
    "with graph.builder() as gb:\n",
    "    gb['nodes'] = node_ids\n",
    "    gb['edges'] = edges\n",
    "    gb['directed'] = True\n",
    "\n",
    "\n",
    "with graph._nodes['a'] as node:\n",
    "    node['name'] = \"energy_gen\"  \n",
    "    node['variables'].add('storage_cost',0)\n",
    "    node['variables'].add('storage',0)\n",
    "    node['functions'].add(func,'storage', 'a+') # + denotes itself at the next time step. \n",
    "    node['variables'].collection('controls',['storage_cost'])\n",
    "    print(node.get_outputs())\n",
    "\n",
    "outs = graph.evaluate()\n",
    "\n",
    "timegraph = Isochronous(graph)"
   ]
  },
  {
   "cell_type": "code",
   "execution_count": null,
   "id": "03f0ba8f",
   "metadata": {},
   "outputs": [],
   "source": []
  },
  {
   "cell_type": "code",
   "execution_count": 4,
   "id": "01d949bf",
   "metadata": {},
   "outputs": [
    {
     "ename": "AttributeError",
     "evalue": "'SpaceGraph' object has no attribute 'linearise'",
     "output_type": "error",
     "traceback": [
      "\u001b[0;31m---------------------------------------------------------------------------\u001b[0m",
      "\u001b[0;31mAttributeError\u001b[0m                            Traceback (most recent call last)",
      "Cell \u001b[0;32mIn[4], line 1\u001b[0m\n\u001b[0;32m----> 1\u001b[0m \u001b[43mgraph\u001b[49m\u001b[38;5;241;43m.\u001b[39;49m\u001b[43mlinearise\u001b[49m()\n",
      "\u001b[0;31mAttributeError\u001b[0m: 'SpaceGraph' object has no attribute 'linearise'"
     ]
    }
   ],
   "source": [
    "graph.linearise()"
   ]
  },
  {
   "cell_type": "code",
   "execution_count": null,
   "id": "7318ad4d",
   "metadata": {},
   "outputs": [
    {
     "data": {
      "text/plain": [
       "{'item': 0}"
      ]
     },
     "execution_count": 5,
     "metadata": {},
     "output_type": "execute_result"
    }
   ],
   "source": [
    "graph._nodes['a']['variables']['controls']"
   ]
  }
 ],
 "metadata": {
  "kernelspec": {
   "display_name": "RL",
   "language": "python",
   "name": "python3"
  },
  "language_info": {
   "codemirror_mode": {
    "name": "ipython",
    "version": 3
   },
   "file_extension": ".py",
   "mimetype": "text/x-python",
   "name": "python",
   "nbconvert_exporter": "python",
   "pygments_lexer": "ipython3",
   "version": "3.10.16"
  }
 },
 "nbformat": 4,
 "nbformat_minor": 5
}
