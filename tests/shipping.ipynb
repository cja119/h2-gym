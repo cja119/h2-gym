{
 "cells": [
  {
   "cell_type": "code",
   "execution_count": 1,
   "id": "31d901dc",
   "metadata": {},
   "outputs": [],
   "source": [
    "from h2_gym.envs import ShippingEnv"
   ]
  },
  {
   "cell_type": "code",
   "execution_count": 2,
   "id": "013887b6",
   "metadata": {},
   "outputs": [],
   "source": [
    "environment = ShippingEnv()\n",
    "with environment as env:\n",
    "    env['vector'] = 'LH2'\n",
    "    env['fast']['data_folder'] = \"shipping_v1\"\n",
    "    env['fast']['planning_model'] = \"LH2-Chile.yml\"\n",
    "    env['weather_data']['weather_file'] = 'CoastalChile_15-20_Wind.csv'\n",
    "    pass"
   ]
  },
  {
   "cell_type": "code",
   "execution_count": 3,
   "id": "7e283cff",
   "metadata": {},
   "outputs": [
    {
     "name": "stdout",
     "output_type": "stream",
     "text": [
      "WARNING: Loading a SolverResults object with a warning status into\n",
      "model.name=\"unknown\";\n",
      "    - termination condition: unbounded\n",
      "    - message from solver: Model was proven to be unbounded.\n",
      "[INFO] Infeasible problem, solving lexicographically\n",
      "WARNING: Loading a SolverResults object with a warning status into\n",
      "model.name=\"unknown\";\n",
      "    - termination condition: unbounded\n",
      "    - message from solver: Model was proven to be unbounded.\n"
     ]
    },
    {
     "ename": "AttributeError",
     "evalue": "'ConcreteModel' object has no attribute 'obj1'",
     "output_type": "error",
     "traceback": [
      "\u001b[0;31m---------------------------------------------------------------------------\u001b[0m",
      "\u001b[0;31mAttributeError\u001b[0m                            Traceback (most recent call last)",
      "Cell \u001b[0;32mIn[3], line 9\u001b[0m\n\u001b[1;32m      5\u001b[0m \u001b[38;5;28;01mfor\u001b[39;00m i \u001b[38;5;129;01min\u001b[39;00m \u001b[38;5;28mrange\u001b[39m(\u001b[38;5;28mlen\u001b[39m(index)):\n\u001b[1;32m      6\u001b[0m     action[index[i]] \u001b[38;5;241m=\u001b[39m schedule[i]\n\u001b[0;32m----> 9\u001b[0m \u001b[43menvironment\u001b[49m\u001b[38;5;241;43m.\u001b[39;49m\u001b[43mstep\u001b[49m\u001b[43m(\u001b[49m\u001b[43maction\u001b[49m\u001b[43m)\u001b[49m\n",
      "File \u001b[0;32m~/Documents/h2-gym/src/h2_gym/envs/shipping/shipping_v1/core.py:236\u001b[0m, in \u001b[0;36mShippingEnvV1.step\u001b[0;34m(self, action)\u001b[0m\n\u001b[1;32m    234\u001b[0m \u001b[38;5;66;03m# Updating the fast model with the new parameters and solving it\u001b[39;00m\n\u001b[1;32m    235\u001b[0m \u001b[38;5;28mself\u001b[39m\u001b[38;5;241m.\u001b[39m_fast\u001b[38;5;241m.\u001b[39mupdate(fast_args)\n\u001b[0;32m--> 236\u001b[0m latent_states \u001b[38;5;241m=\u001b[39m \u001b[38;5;28;43mself\u001b[39;49m\u001b[38;5;241;43m.\u001b[39;49m\u001b[43m_fast\u001b[49m\u001b[38;5;241;43m.\u001b[39;49m\u001b[43msolve\u001b[49m\u001b[43m(\u001b[49m\u001b[43m)\u001b[49m\n\u001b[1;32m    237\u001b[0m total_sent \u001b[38;5;241m+\u001b[39m\u001b[38;5;241m=\u001b[39m latent_states[\u001b[38;5;124m\"\u001b[39m\u001b[38;5;124msent_ship\u001b[39m\u001b[38;5;124m\"\u001b[39m]\n\u001b[1;32m    238\u001b[0m \u001b[38;5;28mprint\u001b[39m(\u001b[38;5;124mf\u001b[39m\u001b[38;5;124m\"\u001b[39m\u001b[38;5;130;01m\\r\u001b[39;00m\u001b[38;5;124m[Inner-Loop] Shipping schedule for day \u001b[39m\u001b[38;5;132;01m{\u001b[39;00mi\u001b[38;5;132;01m}\u001b[39;00m\u001b[38;5;124m. \u001b[39m\u001b[38;5;132;01m{\u001b[39;00m\u001b[38;5;28mint\u001b[39m(total_sent)\u001b[38;5;132;01m}\u001b[39;00m\u001b[38;5;124m ships sent\u001b[39m\u001b[38;5;124m\"\u001b[39m, end\u001b[38;5;241m=\u001b[39m\u001b[38;5;124m\"\u001b[39m\u001b[38;5;124m \u001b[39m\u001b[38;5;124m\"\u001b[39m \u001b[38;5;241m*\u001b[39m \u001b[38;5;241m20\u001b[39m)\n",
      "File \u001b[0;32m~/Documents/h2-gym/src/h2_gym/algs/mpc/fast/core.py:122\u001b[0m, in \u001b[0;36mFastController.solve\u001b[0;34m(self)\u001b[0m\n\u001b[1;32m    119\u001b[0m     \u001b[38;5;28mself\u001b[39m\u001b[38;5;241m.\u001b[39mresults \u001b[38;5;241m=\u001b[39m \u001b[38;5;28mself\u001b[39m\u001b[38;5;241m.\u001b[39msolver\u001b[38;5;241m.\u001b[39msolve(\u001b[38;5;28mself\u001b[39m\u001b[38;5;241m.\u001b[39minstance2, tee\u001b[38;5;241m=\u001b[39m\u001b[38;5;28;01mFalse\u001b[39;00m)\n\u001b[1;32m    120\u001b[0m     \u001b[38;5;28mself\u001b[39m\u001b[38;5;241m.\u001b[39mlexicographic \u001b[38;5;241m=\u001b[39m \u001b[38;5;241m2\u001b[39m\n\u001b[0;32m--> 122\u001b[0m \u001b[38;5;28;01mreturn\u001b[39;00m \u001b[38;5;28;43mself\u001b[39;49m\u001b[38;5;241;43m.\u001b[39;49m\u001b[43moutput\u001b[49m\u001b[43m(\u001b[49m\u001b[43m)\u001b[49m\n",
      "File \u001b[0;32m~/Documents/h2-gym/src/h2_gym/algs/mpc/fast/core.py:206\u001b[0m, in \u001b[0;36mFastController.output\u001b[0;34m(self, time_step)\u001b[0m\n\u001b[1;32m    199\u001b[0m latent_states[\u001b[38;5;124m\"\u001b[39m\u001b[38;5;124mordered_ship\u001b[39m\u001b[38;5;124m\"\u001b[39m] \u001b[38;5;241m=\u001b[39m \u001b[38;5;28msum\u001b[39m(\n\u001b[1;32m    200\u001b[0m     value(\u001b[38;5;28mgetattr\u001b[39m(solve, \u001b[38;5;124m\"\u001b[39m\u001b[38;5;124mn_ship_ordered\u001b[39m\u001b[38;5;124m\"\u001b[39m)[t]) \u001b[38;5;28;01mfor\u001b[39;00m t \u001b[38;5;129;01min\u001b[39;00m \u001b[38;5;28mrange\u001b[39m(time_step)\n\u001b[1;32m    201\u001b[0m )\n\u001b[1;32m    203\u001b[0m latent_states[\u001b[38;5;124m\"\u001b[39m\u001b[38;5;124msent_ship\u001b[39m\u001b[38;5;124m\"\u001b[39m] \u001b[38;5;241m=\u001b[39m \u001b[38;5;28msum\u001b[39m(\n\u001b[1;32m    204\u001b[0m     value(\u001b[38;5;28mgetattr\u001b[39m(solve, \u001b[38;5;124m\"\u001b[39m\u001b[38;5;124mn_ship_sent\u001b[39m\u001b[38;5;124m\"\u001b[39m)[t]) \u001b[38;5;28;01mfor\u001b[39;00m t \u001b[38;5;129;01min\u001b[39;00m \u001b[38;5;28mrange\u001b[39m(time_step)\n\u001b[1;32m    205\u001b[0m )\n\u001b[0;32m--> 206\u001b[0m obj \u001b[38;5;241m=\u001b[39m value(\u001b[38;5;28;43mgetattr\u001b[39;49m\u001b[43m(\u001b[49m\u001b[43msolve\u001b[49m\u001b[43m,\u001b[49m\u001b[43m \u001b[49m\u001b[38;5;124;43m\"\u001b[39;49m\u001b[38;5;124;43mobj1\u001b[39;49m\u001b[38;5;124;43m\"\u001b[39;49m\u001b[43m)\u001b[49m)\n\u001b[1;32m    207\u001b[0m \u001b[38;5;28mprint\u001b[39m(\u001b[38;5;124mf\u001b[39m\u001b[38;5;124m\"\u001b[39m\u001b[38;5;124mObjective value: \u001b[39m\u001b[38;5;132;01m{\u001b[39;00mobj\u001b[38;5;132;01m}\u001b[39;00m\u001b[38;5;124m\"\u001b[39m)\n\u001b[1;32m    208\u001b[0m \u001b[38;5;28;01mimport\u001b[39;00m \u001b[38;5;21;01mmatplotlib\u001b[39;00m\u001b[38;5;21;01m.\u001b[39;00m\u001b[38;5;21;01mpyplot\u001b[39;00m \u001b[38;5;28;01mas\u001b[39;00m \u001b[38;5;21;01mplt\u001b[39;00m\n",
      "File \u001b[0;32m~/miniconda3/envs/h2gym/lib/python3.10/site-packages/pyomo/core/base/block.py:550\u001b[0m, in \u001b[0;36mBlockData.__getattr__\u001b[0;34m(self, val)\u001b[0m\n\u001b[1;32m    547\u001b[0m     \u001b[38;5;28;01mreturn\u001b[39;00m _component_decorator(\u001b[38;5;28mself\u001b[39m, ModelComponentFactory\u001b[38;5;241m.\u001b[39mget_class(val))\n\u001b[1;32m    548\u001b[0m \u001b[38;5;66;03m# Since the base classes don't support getattr, we can just\u001b[39;00m\n\u001b[1;32m    549\u001b[0m \u001b[38;5;66;03m# throw the \"normal\" AttributeError\u001b[39;00m\n\u001b[0;32m--> 550\u001b[0m \u001b[38;5;28;01mraise\u001b[39;00m \u001b[38;5;167;01mAttributeError\u001b[39;00m(\n\u001b[1;32m    551\u001b[0m     \u001b[38;5;124m\"\u001b[39m\u001b[38;5;124m'\u001b[39m\u001b[38;5;132;01m%s\u001b[39;00m\u001b[38;5;124m'\u001b[39m\u001b[38;5;124m object has no attribute \u001b[39m\u001b[38;5;124m'\u001b[39m\u001b[38;5;132;01m%s\u001b[39;00m\u001b[38;5;124m'\u001b[39m\u001b[38;5;124m\"\u001b[39m \u001b[38;5;241m%\u001b[39m (\u001b[38;5;28mself\u001b[39m\u001b[38;5;241m.\u001b[39m\u001b[38;5;18m__class__\u001b[39m\u001b[38;5;241m.\u001b[39m\u001b[38;5;18m__name__\u001b[39m, val)\n\u001b[1;32m    552\u001b[0m )\n",
      "\u001b[0;31mAttributeError\u001b[0m: 'ConcreteModel' object has no attribute 'obj1'"
     ]
    }
   ],
   "source": [
    "schedule = [0,0,0,0,0,0,1,0,0,0,0,0,0,1,0,0,0,0,0,0,1,0,0,0,0,0,0,1,0,0,0,0,0,0,1,0,0,0,0,0,0,1,0,0,0,0,0,0,1,0,0,0,0,0,0,1,0,0,0,0,0,0,1]\n",
    "index = [0, 24, 48, 72, 96, 120, 144, 168, 192, 216, 240, 264, 288, 312, 336, 360, 384, 408, 432, 456, 480, 504, 528, 552, 576, 600, 624, 648, 672, 696, 720, 744, 768, 792, 816]\n",
    "action = {}\n",
    "\n",
    "for i in range(len(index)):\n",
    "    action[index[i]] = schedule[i]\n",
    "\n",
    "\n",
    "environment.step(action)"
   ]
  }
 ],
 "metadata": {
  "kernelspec": {
   "display_name": "h2gym",
   "language": "python",
   "name": "python3"
  },
  "language_info": {
   "codemirror_mode": {
    "name": "ipython",
    "version": 3
   },
   "file_extension": ".py",
   "mimetype": "text/x-python",
   "name": "python",
   "nbconvert_exporter": "python",
   "pygments_lexer": "ipython3",
   "version": "3.10.16"
  }
 },
 "nbformat": 4,
 "nbformat_minor": 5
}
