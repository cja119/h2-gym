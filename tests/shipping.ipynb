{
 "cells": [
  {
   "cell_type": "code",
   "execution_count": 1,
   "id": "31d901dc",
   "metadata": {},
   "outputs": [],
   "source": [
    "from h2_gym.envs import ShippingEnv\n",
    "from IPython.display import display, clear_output\n",
    "import matplotlib.pyplot as plt"
   ]
  },
  {
   "cell_type": "code",
   "execution_count": 2,
   "id": "013887b6",
   "metadata": {},
   "outputs": [],
   "source": [
    "environment = ShippingEnv()\n",
    "with environment as env:\n",
    "    env['vector'] = 'LH2'\n",
    "    env['fast']['data_folder'] = \"shipping_v1\"\n",
    "    env['fast']['planning_model'] = \"LH2-Chile.yml\"\n",
    "    env['weather_data']['weather_file'] = 'CoastalChile_15-20_Wind.csv'\n",
    "    pass\n"
   ]
  },
  {
   "cell_type": "code",
   "execution_count": 3,
   "id": "7e283cff",
   "metadata": {},
   "outputs": [
    {
     "name": "stdout",
     "output_type": "stream",
     "text": [
      "origin_arrive=1\n",
      "ship_schedule={24: 0, 48: 0, 72: 0, 96: 0, 120: 0, 144: 1, 168: 0, 192: 0, 216: 0, 240: 0, 264: 0, 288: 0, 312: 0}\n",
      "[INFO] Infeasible problem, solving lexicographically\n",
      "WARNING: Loading a SolverResults object with a warning status into\n",
      "model.name=\"unknown\";\n",
      "    - termination condition: infeasibleOrUnbounded\n",
      "    - message from solver: Problem proven to be infeasible or unbounded.\n",
      "ERROR: evaluating object as numeric value: n_ship_ordered[0]\n",
      "        (object: <class 'pyomo.core.base.var.VarData'>)\n",
      "    No value for uninitialized NumericValue object n_ship_ordered[0]\n"
     ]
    },
    {
     "ename": "ValueError",
     "evalue": "No value for uninitialized NumericValue object n_ship_ordered[0]",
     "output_type": "error",
     "traceback": [
      "\u001b[0;31m---------------------------------------------------------------------------\u001b[0m",
      "\u001b[0;31mValueError\u001b[0m                                Traceback (most recent call last)",
      "Cell \u001b[0;32mIn[3], line 13\u001b[0m\n\u001b[1;32m     10\u001b[0m \u001b[38;5;28;01mfor\u001b[39;00m i \u001b[38;5;129;01min\u001b[39;00m \u001b[38;5;28mrange\u001b[39m(\u001b[38;5;28mlen\u001b[39m(index)):\n\u001b[1;32m     11\u001b[0m     action[index[i]] \u001b[38;5;241m=\u001b[39m schedule[i]\n\u001b[0;32m---> 13\u001b[0m \u001b[38;5;28;01mfor\u001b[39;00m fig \u001b[38;5;129;01min\u001b[39;00m environment\u001b[38;5;241m.\u001b[39mstep(action):\n\u001b[1;32m     14\u001b[0m     clear_output(wait\u001b[38;5;241m=\u001b[39m\u001b[38;5;28;01mTrue\u001b[39;00m)\n\u001b[1;32m     15\u001b[0m     display(fig)\n",
      "File \u001b[0;32m~/Documents/h2-gym/src/h2_gym/envs/shipping/shipping_v1/core.py:212\u001b[0m, in \u001b[0;36mShippingEnvV1.step\u001b[0;34m(self, action)\u001b[0m\n\u001b[1;32m    210\u001b[0m \u001b[38;5;66;03m# Updating the fast model with the new parameters and solving it\u001b[39;00m\n\u001b[1;32m    211\u001b[0m \u001b[38;5;28mself\u001b[39m\u001b[38;5;241m.\u001b[39m_fast\u001b[38;5;241m.\u001b[39mupdate(fast_args, results)\n\u001b[0;32m--> 212\u001b[0m results, latent_states \u001b[38;5;241m=\u001b[39m \u001b[38;5;28;43mself\u001b[39;49m\u001b[38;5;241;43m.\u001b[39;49m\u001b[43m_fast\u001b[49m\u001b[38;5;241;43m.\u001b[39;49m\u001b[43msolve\u001b[49m\u001b[43m(\u001b[49m\u001b[43m)\u001b[49m\n\u001b[1;32m    213\u001b[0m \u001b[38;5;28mself\u001b[39m\u001b[38;5;241m.\u001b[39m_fast\u001b[38;5;241m.\u001b[39mvisualise_output(\u001b[38;5;241m24\u001b[39m)\n\u001b[1;32m    214\u001b[0m total_sent \u001b[38;5;241m+\u001b[39m\u001b[38;5;241m=\u001b[39m latent_states[\u001b[38;5;124m\"\u001b[39m\u001b[38;5;124msent_ship\u001b[39m\u001b[38;5;124m\"\u001b[39m]\n",
      "File \u001b[0;32m~/Documents/h2-gym/src/h2_gym/algs/mpc/fast/core.py:142\u001b[0m, in \u001b[0;36mFastController.solve\u001b[0;34m(self)\u001b[0m\n\u001b[1;32m    139\u001b[0m     \u001b[38;5;28mself\u001b[39m\u001b[38;5;241m.\u001b[39mresults \u001b[38;5;241m=\u001b[39m \u001b[38;5;28mself\u001b[39m\u001b[38;5;241m.\u001b[39msolver\u001b[38;5;241m.\u001b[39msolve(\u001b[38;5;28mself\u001b[39m\u001b[38;5;241m.\u001b[39minstance2, tee\u001b[38;5;241m=\u001b[39m\u001b[38;5;28;01mFalse\u001b[39;00m)\n\u001b[1;32m    140\u001b[0m     \u001b[38;5;28mself\u001b[39m\u001b[38;5;241m.\u001b[39mlexicographic \u001b[38;5;241m=\u001b[39m \u001b[38;5;241m2\u001b[39m\n\u001b[0;32m--> 142\u001b[0m \u001b[38;5;28;01mreturn\u001b[39;00m \u001b[38;5;28;43mself\u001b[39;49m\u001b[38;5;241;43m.\u001b[39;49m\u001b[43moutput\u001b[49m\u001b[43m(\u001b[49m\u001b[43m)\u001b[49m\n",
      "File \u001b[0;32m~/Documents/h2-gym/src/h2_gym/algs/mpc/fast/core.py:182\u001b[0m, in \u001b[0;36mFastController.output\u001b[0;34m(self, time_step)\u001b[0m\n\u001b[1;32m    179\u001b[0m stochastic_output \u001b[38;5;241m=\u001b[39m {}\n\u001b[1;32m    181\u001b[0m \u001b[38;5;66;03m# Extract if any ships were sent  or ordered\u001b[39;00m\n\u001b[0;32m--> 182\u001b[0m stochastic_output[\u001b[38;5;124m\"\u001b[39m\u001b[38;5;124mordered_ship\u001b[39m\u001b[38;5;124m\"\u001b[39m] \u001b[38;5;241m=\u001b[39m \u001b[38;5;28;43msum\u001b[39;49m\u001b[43m(\u001b[49m\u001b[43mvalue\u001b[49m\u001b[43m(\u001b[49m\u001b[38;5;28;43mgetattr\u001b[39;49m\u001b[43m(\u001b[49m\u001b[43msolve\u001b[49m\u001b[43m,\u001b[49m\u001b[43m \u001b[49m\u001b[38;5;124;43m\"\u001b[39;49m\u001b[38;5;124;43mn_ship_ordered\u001b[39;49m\u001b[38;5;124;43m\"\u001b[39;49m\u001b[43m)\u001b[49m\u001b[43m[\u001b[49m\u001b[43mt\u001b[49m\u001b[43m]\u001b[49m\u001b[43m)\u001b[49m\u001b[43m \u001b[49m\u001b[38;5;28;43;01mfor\u001b[39;49;00m\u001b[43m \u001b[49m\u001b[43mt\u001b[49m\u001b[43m \u001b[49m\u001b[38;5;129;43;01min\u001b[39;49;00m\u001b[43m \u001b[49m\u001b[38;5;28;43mrange\u001b[39;49m\u001b[43m(\u001b[49m\u001b[43mtime_step\u001b[49m\u001b[43m)\u001b[49m\u001b[43m)\u001b[49m\n\u001b[1;32m    183\u001b[0m stochastic_output[\u001b[38;5;124m\"\u001b[39m\u001b[38;5;124msent_ship\u001b[39m\u001b[38;5;124m\"\u001b[39m] \u001b[38;5;241m=\u001b[39m \u001b[38;5;28msum\u001b[39m(value(\u001b[38;5;28mgetattr\u001b[39m(solve, \u001b[38;5;124m\"\u001b[39m\u001b[38;5;124mn_ship_sent\u001b[39m\u001b[38;5;124m\"\u001b[39m)[t]) \u001b[38;5;28;01mfor\u001b[39;00m t \u001b[38;5;129;01min\u001b[39;00m \u001b[38;5;28mrange\u001b[39m(time_step))\n\u001b[1;32m    185\u001b[0m \u001b[38;5;28;01mfor\u001b[39;00m var \u001b[38;5;129;01min\u001b[39;00m solve\u001b[38;5;241m.\u001b[39mcomponent_objects(Var, active\u001b[38;5;241m=\u001b[39m\u001b[38;5;28;01mTrue\u001b[39;00m):\n",
      "File \u001b[0;32m~/Documents/h2-gym/src/h2_gym/algs/mpc/fast/core.py:182\u001b[0m, in \u001b[0;36m<genexpr>\u001b[0;34m(.0)\u001b[0m\n\u001b[1;32m    179\u001b[0m stochastic_output \u001b[38;5;241m=\u001b[39m {}\n\u001b[1;32m    181\u001b[0m \u001b[38;5;66;03m# Extract if any ships were sent  or ordered\u001b[39;00m\n\u001b[0;32m--> 182\u001b[0m stochastic_output[\u001b[38;5;124m\"\u001b[39m\u001b[38;5;124mordered_ship\u001b[39m\u001b[38;5;124m\"\u001b[39m] \u001b[38;5;241m=\u001b[39m \u001b[38;5;28msum\u001b[39m(\u001b[43mvalue\u001b[49m\u001b[43m(\u001b[49m\u001b[38;5;28;43mgetattr\u001b[39;49m\u001b[43m(\u001b[49m\u001b[43msolve\u001b[49m\u001b[43m,\u001b[49m\u001b[43m \u001b[49m\u001b[38;5;124;43m\"\u001b[39;49m\u001b[38;5;124;43mn_ship_ordered\u001b[39;49m\u001b[38;5;124;43m\"\u001b[39;49m\u001b[43m)\u001b[49m\u001b[43m[\u001b[49m\u001b[43mt\u001b[49m\u001b[43m]\u001b[49m\u001b[43m)\u001b[49m \u001b[38;5;28;01mfor\u001b[39;00m t \u001b[38;5;129;01min\u001b[39;00m \u001b[38;5;28mrange\u001b[39m(time_step))\n\u001b[1;32m    183\u001b[0m stochastic_output[\u001b[38;5;124m\"\u001b[39m\u001b[38;5;124msent_ship\u001b[39m\u001b[38;5;124m\"\u001b[39m] \u001b[38;5;241m=\u001b[39m \u001b[38;5;28msum\u001b[39m(value(\u001b[38;5;28mgetattr\u001b[39m(solve, \u001b[38;5;124m\"\u001b[39m\u001b[38;5;124mn_ship_sent\u001b[39m\u001b[38;5;124m\"\u001b[39m)[t]) \u001b[38;5;28;01mfor\u001b[39;00m t \u001b[38;5;129;01min\u001b[39;00m \u001b[38;5;28mrange\u001b[39m(time_step))\n\u001b[1;32m    185\u001b[0m \u001b[38;5;28;01mfor\u001b[39;00m var \u001b[38;5;129;01min\u001b[39;00m solve\u001b[38;5;241m.\u001b[39mcomponent_objects(Var, active\u001b[38;5;241m=\u001b[39m\u001b[38;5;28;01mTrue\u001b[39;00m):\n",
      "File \u001b[0;32m~/miniconda3/envs/h2gym/lib/python3.10/site-packages/pyomo/common/numeric_types.py:384\u001b[0m, in \u001b[0;36mvalue\u001b[0;34m(obj, exception)\u001b[0m\n\u001b[1;32m    382\u001b[0m     tmp \u001b[38;5;241m=\u001b[39m obj(exception\u001b[38;5;241m=\u001b[39m\u001b[38;5;28;01mTrue\u001b[39;00m)\n\u001b[1;32m    383\u001b[0m     \u001b[38;5;28;01mif\u001b[39;00m tmp \u001b[38;5;129;01mis\u001b[39;00m \u001b[38;5;28;01mNone\u001b[39;00m:\n\u001b[0;32m--> 384\u001b[0m         \u001b[38;5;28;01mraise\u001b[39;00m \u001b[38;5;167;01mValueError\u001b[39;00m(\n\u001b[1;32m    385\u001b[0m             \u001b[38;5;124m\"\u001b[39m\u001b[38;5;124mNo value for uninitialized NumericValue object \u001b[39m\u001b[38;5;132;01m%s\u001b[39;00m\u001b[38;5;124m\"\u001b[39m \u001b[38;5;241m%\u001b[39m (obj\u001b[38;5;241m.\u001b[39mname,)\n\u001b[1;32m    386\u001b[0m         )\n\u001b[1;32m    387\u001b[0m     \u001b[38;5;28;01mreturn\u001b[39;00m tmp\n\u001b[1;32m    388\u001b[0m \u001b[38;5;28;01mexcept\u001b[39;00m TemplateExpressionError:\n\u001b[1;32m    389\u001b[0m     \u001b[38;5;66;03m# Template expressions work by catching this error type. So\u001b[39;00m\n\u001b[1;32m    390\u001b[0m     \u001b[38;5;66;03m# we should defer this error handling and not log an error\u001b[39;00m\n\u001b[1;32m    391\u001b[0m     \u001b[38;5;66;03m# message.\u001b[39;00m\n",
      "\u001b[0;31mValueError\u001b[0m: No value for uninitialized NumericValue object n_ship_ordered[0]"
     ]
    }
   ],
   "source": [
    "%matplotlib notebook\n",
    "fig = environment.render()\n",
    "plt.show()\n",
    "\n",
    "schedule = [0,0,0,0,0,0,1,0,0,0,0,0,0,0,0,1,0,0,0,0,1,0,0,0,0,1,0,0,0,0,0,0,0,0,1,0,0,0,0,0,0,1,0,0,0,0,0,0,1,0,0,0,0,0,0,1,0,0,0,0,0,0,1]\n",
    "index = [0, 24, 48, 72, 96, 120, 144, 168, 192, 216, 240, 264, 288, 312, 336, 360, 384, 408, 432, 456, 480, 504, 528, 552, 576, 600, 624, 648, 672, 696, 720, 744, 768, 792, 816, 840, 864, 888, 912, 936, 960, 984, 1008, 1032, 1056, 1080, 1104, 1128, 1152, 1176, 1200, 1224, 1248, 1272, 1296, 1320, 1344, 1368, 1392, 1416, 1440]\n",
    "\n",
    "action = {}\n",
    "\n",
    "for i in range(len(index)):\n",
    "    action[index[i]] = schedule[i]\n",
    "\n",
    "for fig in environment.step(action):\n",
    "    clear_output(wait=True)\n",
    "    display(fig)\n",
    "    plt.pause(0.1)"
   ]
  },
  {
   "cell_type": "code",
   "execution_count": null,
   "id": "7ef11532",
   "metadata": {},
   "outputs": [
    {
     "name": "stdout",
     "output_type": "stream",
     "text": [
      "0\n"
     ]
    }
   ],
   "source": [
    "for i in range(0,1):\n",
    "    print(i)"
   ]
  }
 ],
 "metadata": {
  "kernelspec": {
   "display_name": "h2gym",
   "language": "python",
   "name": "python3"
  },
  "language_info": {
   "codemirror_mode": {
    "name": "ipython",
    "version": 3
   },
   "file_extension": ".py",
   "mimetype": "text/x-python",
   "name": "python",
   "nbconvert_exporter": "python",
   "pygments_lexer": "ipython3",
   "version": "3.10.16"
  }
 },
 "nbformat": 4,
 "nbformat_minor": 5
}
