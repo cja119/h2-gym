{
 "cells": [
  {
   "cell_type": "code",
   "execution_count": null,
   "id": "97c88a30",
   "metadata": {},
   "outputs": [],
   "source": [
    "from numpy import datetime64\n",
    "from meteor_py import WeatherData, RenewableEnergy"
   ]
  },
  {
   "cell_type": "code",
   "execution_count": null,
   "id": "425a0ff3",
   "metadata": {},
   "outputs": [],
   "source": [
    "start_date   =  datetime64('2022-01-01', 'ns') \n",
    "end_date     = datetime64('2023-01-01', 'ns') \n",
    "\n",
    "weatherdata = WeatherData(\n",
    "    date=(start_date, end_date),\n",
    "    location='Coastal Chile',\n",
    "    wind=True,\n",
    "    solar=False,\n",
    "    interval=3600,\n",
    "    n_samp=100,\n",
    "    sample_type=\"Structured\",\n",
    "    latitudes=(-47.7,-41.5),\n",
    "    longitudes=(-74.275, -71.8)\n",
    ")"
   ]
  },
  {
   "cell_type": "code",
   "execution_count": null,
   "id": "f858fa3c",
   "metadata": {},
   "outputs": [],
   "source": [
    "renewableenergy = RenewableEnergy(\n",
    "    weatherdata,\n",
    "    [\n",
    "        (0, 0.0),       # These are points along the power curve.\n",
    "        (3, 0.0),       # are used in the output curve.\n",
    "        (4, 0.648),     # Wind speeds are in [m/s].\n",
    "        (5, 1.4832),\n",
    "        (6, 2.736),\n",
    "        (7, 4.4676),\n",
    "        (8, 6.7104),\n",
    "        (9, 9.3168),\n",
    "        (10, 11.2392),\n",
    "        (11, 11.8008),\n",
    "        (12, 11.8728),\n",
    "        (13, 11.88),\n",
    "        (30, 11.88),\n",
    "    ]\n",
    ")"
   ]
  },
  {
   "cell_type": "code",
   "execution_count": null,
   "id": "7c582c51",
   "metadata": {},
   "outputs": [],
   "source": [
    "RenewableEnergy(weatherdata).export_power(weatherdata,name='weather_test', dates=True)"
   ]
  }
 ],
 "metadata": {
  "kernelspec": {
   "display_name": "h2gym",
   "language": "python",
   "name": "python3"
  },
  "language_info": {
   "name": "python",
   "version": "3.10.16"
  }
 },
 "nbformat": 4,
 "nbformat_minor": 5
}
