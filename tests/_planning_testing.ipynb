{
 "cells": [
  {
   "cell_type": "code",
   "execution_count": 1,
   "id": "520b9aff",
   "metadata": {},
   "outputs": [],
   "source": [
    "from h2_gym.envs import Planning"
   ]
  },
  {
   "cell_type": "code",
   "execution_count": 2,
   "id": "d4e79dcc",
   "metadata": {},
   "outputs": [
    {
     "name": "stderr",
     "output_type": "stream",
     "text": [
      "/Users/cameronaldren/miniconda3/envs/h2gym/lib/python3.10/site-packages/tqdm/auto.py:21: TqdmWarning: IProgress not found. Please update jupyter and ipywidgets. See https://ipywidgets.readthedocs.io/en/stable/user_install.html\n",
      "  from .autonotebook import tqdm as notebook_tqdm\n"
     ]
    },
    {
     "name": "stdout",
     "output_type": "stream",
     "text": [
      "[INFO] Reading CSV file: /Users/cameronaldren/miniconda3/envs/h2gym/lib/python3.10/site-packages/meteor_py/data/CoastalChile_15-20_Wind.csv\n",
      "[INFO] Setup Model completed in 0.93 seconds\n",
      "[INFO] Model Built in 8.18 seconds\n",
      "[INFO] Loaded recognised as instance\n"
     ]
    }
   ],
   "source": [
    "environment = Planning('test_env', weather_file ='CoastalChile_15-20_Wind.csv')\n",
    "with environment as env:\n",
    "    env['vector_choice']['LH2'] = True\n",
    "    env['vector_choice']['NH3'] = False\n",
    "    env['electrolysers']['alkaline'] = False\n",
    "    env['electrolysers']['PEM'] = False\n",
    "    env['electrolysers']['SOFC'] = True\n",
    "    env['grid_connection'] = False\n",
    "    env['wind'] = True\n",
    "    env['solar'] = False\n",
    "environment.solve()"
   ]
  },
  {
   "cell_type": "code",
   "execution_count": 5,
   "id": "f9e3d64d",
   "metadata": {},
   "outputs": [],
   "source": [
    "res = environment.get_results()"
   ]
  },
  {
   "cell_type": "code",
   "execution_count": 6,
   "id": "5e769f92",
   "metadata": {},
   "outputs": [
    {
     "data": {
      "text/plain": [
       "dict_items([('renewable_energy_capacity', 1474.4105585805712), ('hydrogen_storage_capacity', 258669.5979888809), ('fuelcell_capacity', 1613.3436721264984), ('compression_capacity', 704.2391827695704), ('electrolyser_capacity', 14760.619796406576), ('conversion_trains_number', 12), ('capex', 14676.87017006237), ('opex', 61839.620113434816)])"
      ]
     },
     "execution_count": 6,
     "metadata": {},
     "output_type": "execute_result"
    }
   ],
   "source": [
    "res.items()"
   ]
  }
 ],
 "metadata": {
  "kernelspec": {
   "display_name": "h2gym",
   "language": "python",
   "name": "python3"
  },
  "language_info": {
   "codemirror_mode": {
    "name": "ipython",
    "version": 3
   },
   "file_extension": ".py",
   "mimetype": "text/x-python",
   "name": "python",
   "nbconvert_exporter": "python",
   "pygments_lexer": "ipython3",
   "version": "3.10.16"
  }
 },
 "nbformat": 4,
 "nbformat_minor": 5
}
