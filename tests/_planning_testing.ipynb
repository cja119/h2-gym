{
 "cells": [
  {
   "cell_type": "code",
   "execution_count": 1,
   "id": "520b9aff",
   "metadata": {},
   "outputs": [],
   "source": [
    "from h2_gym.envs import Planning"
   ]
  },
  {
   "cell_type": "code",
   "execution_count": 2,
   "id": "d4e79dcc",
   "metadata": {},
   "outputs": [
    {
     "name": "stderr",
     "output_type": "stream",
     "text": [
      "/Users/cameronaldren/miniconda3/envs/h2gym/lib/python3.10/site-packages/tqdm/auto.py:21: TqdmWarning: IProgress not found. Please update jupyter and ipywidgets. See https://ipywidgets.readthedocs.io/en/stable/user_install.html\n",
      "  from .autonotebook import tqdm as notebook_tqdm\n"
     ]
    },
    {
     "name": "stdout",
     "output_type": "stream",
     "text": [
      "[INFO] Reading CSV file: /Users/cameronaldren/miniconda3/envs/h2gym/lib/python3.10/site-packages/meteor_py/data/CoastalChile_15-20_Wind.csv\n",
      "[INFO] Setup Model completed in 0.98 seconds\n",
      "[INFO] Model Built in 8.13 seconds\n",
      "[INFO] Loaded recognised as instance\n",
      "Read LP format model from file /var/folders/3p/99pv6lw14317n6rg5nx1xlf80000gn/T/tmpaeanq3qi.pyomo.lp\n",
      "Reading time = 0.09 seconds\n",
      "x1: 55859 rows, 42903 columns, 167360 nonzeros\n",
      "Set parameter FeasibilityTol to value 0.01\n",
      "Set parameter OptimalityTol to value 1e-08\n",
      "Set parameter MIPGap to value 0.05\n",
      "Set parameter LogToConsole to value 0\n",
      "# ==========================================================\n",
      "# = Solver Results                                         =\n",
      "# ==========================================================\n",
      "# ----------------------------------------------------------\n",
      "#   Problem Information\n",
      "# ----------------------------------------------------------\n",
      "Problem: \n",
      "- Name: x1\n",
      "  Lower bound: -11095.019991715375\n",
      "  Upper bound: -10711.57865790742\n",
      "  Number of objectives: 1\n",
      "  Number of constraints: 55859\n",
      "  Number of variables: 42903\n",
      "  Number of binary variables: 0\n",
      "  Number of integer variables: 2715\n",
      "  Number of continuous variables: 40188\n",
      "  Number of nonzeros: 167360\n",
      "  Sense: minimize\n",
      "# ----------------------------------------------------------\n",
      "#   Solver Information\n",
      "# ----------------------------------------------------------\n",
      "Solver: \n",
      "- Status: ok\n",
      "  Return code: 0\n",
      "  Message: Model was solved to optimality (subject to tolerances), and an optimal solution is available.\n",
      "  Termination condition: optimal\n",
      "  Termination message: Model was solved to optimality (subject to tolerances), and an optimal solution is available.\n",
      "  Wall time: 20.06525993347168\n",
      "  Error rc: 0\n",
      "# ----------------------------------------------------------\n",
      "#   Solution Information\n",
      "# ----------------------------------------------------------\n",
      "Solution: \n",
      "- number of solutions: 0\n",
      "  number of solutions displayed: 0\n"
     ]
    }
   ],
   "source": [
    "environment = Planning('test_env', weather_file ='CoastalChile_15-20_Wind.csv')\n",
    "with environment as env:\n",
    "    env['vector_choice']['LH2'] = True\n",
    "    env['vector_choice']['NH3'] = False\n",
    "    env['electrolysers']['alkaline'] = False\n",
    "    env['electrolysers']['PEM'] = False\n",
    "    env['electrolysers']['SOFC'] = True\n",
    "    env['grid_connection'] = False\n",
    "    env['wind'] = True\n",
    "    env['solar'] = False\n",
    "environment.solve()"
   ]
  },
  {
   "cell_type": "code",
   "execution_count": 3,
   "id": "f9e3d64d",
   "metadata": {},
   "outputs": [
    {
     "ename": "TypeError",
     "evalue": "unsupported operand type(s) for +: 'PosixPath' and 'str'",
     "output_type": "error",
     "traceback": [
      "\u001b[0;31m---------------------------------------------------------------------------\u001b[0m",
      "\u001b[0;31mTypeError\u001b[0m                                 Traceback (most recent call last)",
      "Cell \u001b[0;32mIn[3], line 1\u001b[0m\n\u001b[0;32m----> 1\u001b[0m res \u001b[38;5;241m=\u001b[39m \u001b[43menvironment\u001b[49m\u001b[38;5;241;43m.\u001b[39;49m\u001b[43mget_results\u001b[49m\u001b[43m(\u001b[49m\u001b[43m)\u001b[49m\n",
      "File \u001b[0;32m~/Documents/h2-gym/src/h2_gym/envs/planning/core.py:128\u001b[0m, in \u001b[0;36mPlanning.get_results\u001b[0;34m(self, target)\u001b[0m\n\u001b[1;32m    126\u001b[0m \u001b[38;5;28;01mif\u001b[39;00m target \u001b[38;5;129;01mis\u001b[39;00m \u001b[38;5;28;01mNone\u001b[39;00m:\n\u001b[1;32m    127\u001b[0m     target \u001b[38;5;241m=\u001b[39m Path(\u001b[38;5;18m__file__\u001b[39m)\u001b[38;5;241m.\u001b[39mparent\u001b[38;5;241m.\u001b[39mparent\u001b[38;5;241m.\u001b[39mparent\u001b[38;5;241m/\u001b[39m \u001b[38;5;124m\"\u001b[39m\u001b[38;5;124mtmp/planning\u001b[39m\u001b[38;5;124m\"\u001b[39m \n\u001b[0;32m--> 128\u001b[0m \u001b[38;5;28mself\u001b[39m\u001b[38;5;241m.\u001b[39m_res \u001b[38;5;241m=\u001b[39m \u001b[43mPlanningResults\u001b[49m\u001b[43m(\u001b[49m\u001b[38;5;28;43mself\u001b[39;49m\u001b[38;5;241;43m.\u001b[39;49m\u001b[43m_model\u001b[49m\u001b[43m)\u001b[49m\u001b[38;5;241;43m.\u001b[39;49m\u001b[43mextract_results\u001b[49m\u001b[43m(\u001b[49m\u001b[43mtarget\u001b[49m\u001b[43m)\u001b[49m\n\u001b[1;32m    130\u001b[0m \u001b[38;5;28;01mreturn\u001b[39;00m \u001b[38;5;28mself\u001b[39m\u001b[38;5;241m.\u001b[39m_res\n",
      "File \u001b[0;32m~/Documents/Git/StochasticModel/src/h2_plan/data/solution/main.py:58\u001b[0m, in \u001b[0;36mPlanningResults.extract_results\u001b[0;34m(self, targ)\u001b[0m\n\u001b[1;32m     55\u001b[0m \u001b[38;5;28;01mif\u001b[39;00m \u001b[38;5;129;01mnot\u001b[39;00m targ\u001b[38;5;241m.\u001b[39mexists():\n\u001b[1;32m     56\u001b[0m     targ\u001b[38;5;241m.\u001b[39mmkdir(parents\u001b[38;5;241m=\u001b[39m\u001b[38;5;28;01mTrue\u001b[39;00m, exist_ok\u001b[38;5;241m=\u001b[39m\u001b[38;5;28;01mTrue\u001b[39;00m)\n\u001b[0;32m---> 58\u001b[0m \u001b[38;5;28;01mwith\u001b[39;00m \u001b[38;5;28mopen\u001b[39m(\u001b[43mtarg\u001b[49m\u001b[43m \u001b[49m\u001b[38;5;241;43m/\u001b[39;49m\u001b[43m \u001b[49m\u001b[38;5;28;43mself\u001b[39;49m\u001b[38;5;241;43m.\u001b[39;49m\u001b[43mmodel\u001b[49m\u001b[38;5;241;43m.\u001b[39;49m\u001b[43mfilename\u001b[49m\u001b[43m \u001b[49m\u001b[38;5;241;43m+\u001b[39;49m\u001b[43m \u001b[49m\u001b[38;5;124;43m'\u001b[39;49m\u001b[38;5;124;43m.yml\u001b[39;49m\u001b[38;5;124;43m'\u001b[39;49m, \u001b[38;5;124m\"\u001b[39m\u001b[38;5;124mw\u001b[39m\u001b[38;5;124m\"\u001b[39m) \u001b[38;5;28;01mas\u001b[39;00m file:\n\u001b[1;32m     59\u001b[0m     yaml\u001b[38;5;241m.\u001b[39mdump(\u001b[38;5;28mself\u001b[39m\u001b[38;5;241m.\u001b[39m_res, file)\n\u001b[1;32m     61\u001b[0m \u001b[38;5;28;01mreturn\u001b[39;00m \u001b[38;5;28mself\u001b[39m\u001b[38;5;241m.\u001b[39m_res\n",
      "\u001b[0;31mTypeError\u001b[0m: unsupported operand type(s) for +: 'PosixPath' and 'str'"
     ]
    }
   ],
   "source": [
    "res = environment.get_results()"
   ]
  },
  {
   "cell_type": "code",
   "execution_count": null,
   "id": "5e769f92",
   "metadata": {},
   "outputs": [
    {
     "data": {
      "text/plain": [
       "dict_items([('renewable_energy_capacity', 1474.4105585805712), ('hydrogen_storage_capacity', 258669.5979888809), ('fuelcell_capacity', 1613.3436721264984), ('compression_capacity', 704.2391827695704), ('electrolyser_capacity', 14760.619796406576), ('conversion_trains_number', 12), ('capex', 14676.87017006237), ('opex', 61839.620113434816)])"
      ]
     },
     "execution_count": 4,
     "metadata": {},
     "output_type": "execute_result"
    }
   ],
   "source": [
    "res.items()"
   ]
  }
 ],
 "metadata": {
  "kernelspec": {
   "display_name": "h2gym",
   "language": "python",
   "name": "python3"
  },
  "language_info": {
   "codemirror_mode": {
    "name": "ipython",
    "version": 3
   },
   "file_extension": ".py",
   "mimetype": "text/x-python",
   "name": "python",
   "nbconvert_exporter": "python",
   "pygments_lexer": "ipython3",
   "version": "3.10.16"
  }
 },
 "nbformat": 4,
 "nbformat_minor": 5
}
